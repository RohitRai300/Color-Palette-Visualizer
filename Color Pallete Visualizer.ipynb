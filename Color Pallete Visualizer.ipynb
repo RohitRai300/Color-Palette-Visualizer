{
 "cells": [
  {
   "cell_type": "code",
   "execution_count": 20,
   "metadata": {},
   "outputs": [],
   "source": [
    "#Created By: Rohit Rai\n",
    "\n",
    "import matplotlib.pyplot as plt\n",
    "from matplotlib.widgets import Slider,Button"
   ]
  },
  {
   "cell_type": "code",
   "execution_count": 22,
   "metadata": {},
   "outputs": [
    {
     "data": {
      "text/plain": [
       "(0.0, 255.0, 0.0, 255.0)"
      ]
     },
     "execution_count": 22,
     "metadata": {},
     "output_type": "execute_result"
    },
    {
     "data": {
      "image/png": "[encoded data removed]",
      "text/plain": [
       "<Figure size 432x288 with 1 Axes>"
      ]
     },
     "metadata": {
      "needs_background": "light"
     },
     "output_type": "display_data"
    }
   ],
   "source": [
    "fig = plt.figure()\n",
    "ax = plt.axes()\n",
    "plt.subplots_adjust(left=0.1,bottom=0.35)\n",
    "plt.title(\"A Colour Pattele/Visualizer\")\n",
    "plt.xlabel(\"Intensities ---->\")\n",
    "plt.ylabel(\"Intensities ---->\")\n",
    "\n",
    "plt.axis([0,255,0,255])"
   ]
  },
  {
   "cell_type": "code",
   "execution_count": 23,
   "metadata": {},
   "outputs": [
    {
     "data": {
      "image/png": "[encoded data removed]",
      "text/plain": [
       "<Figure size 432x288 with 3 Axes>"
      ]
     },
     "metadata": {},
     "output_type": "display_data"
    }
   ],
   "source": [
    "# For adjusting the intensities of RED Color \n",
    "axSlider1 = plt.axes((0.1,0.2, 0.8, 0.05), facecolor='y')\n",
    "red = Slider( ax=axSlider1,label='Red',valmin=0,valmax=255,valstep=1)\n",
    "\n",
    "# For adjusting the intensities of Green Color\n",
    "axSlider2 = plt.axes((0.1,0.1, 0.8, 0.05), facecolor='y')\n",
    "green = Slider(ax=axSlider2,label='Green',valmin=0,valmax=255,valstep=1)\n",
    "\n",
    "# For adjusting the intensities of Blue Color\n",
    "axSlider3 = plt.axes((0.1,0, 0.8, 0.05), facecolor='y')\n",
    "blue = Slider(axSlider3,label='Blue',valmin=0,valmax=255,valstep=1)\n"
   ]
  },
  {
   "cell_type": "code",
   "execution_count": 24,
   "metadata": {},
   "outputs": [],
   "source": [
    "\n",
    "\n",
    "def update(val):\n",
    "    Red = int(red.val)\n",
    "    Green = int(green.val)\n",
    "    Blue = int(blue.val)\n",
    "    hexval = rgb_to_hex((Red,Green,Blue))\n",
    "    hexval = '#' + hexval\n",
    "    ax.set_facecolor(hexval)\n",
    "    \n",
    "    "
   ]
  },
  {
   "cell_type": "code",
   "execution_count": 25,
   "metadata": {},
   "outputs": [],
   "source": [
    "# update the RGB values on changing the intensity via slider\n",
    "red.on_changed(update)   \n",
    "green.on_changed(update)\n",
    "blue.on_changed(update)\n",
    "\n",
    "# convert RGB tuple to hexadecimal code\n",
    "def rgb_to_hex(rgb):\n",
    "    return '%02x%02x%02x' % rgb\n",
    "\n"
   ]
  },
  {
   "cell_type": "code",
   "execution_count": 26,
   "metadata": {},
   "outputs": [],
   "source": [
    "\n",
    "plt.show()\n"
   ]
  }
 ],
 "metadata": {
  "kernelspec": {
   "display_name": "Python 3",
   "language": "python",
   "name": "python3"
  },
  "language_info": {
   "codemirror_mode": {
    "name": "ipython",
    "version": 3
   },
   "file_extension": ".py",
   "mimetype": "text/x-python",
   "name": "python",
   "nbconvert_exporter": "python",
   "pygments_lexer": "ipython3",
   "version": "3.8.5"
  }
 },
 "nbformat": 4,
 "nbformat_minor": 4
}
